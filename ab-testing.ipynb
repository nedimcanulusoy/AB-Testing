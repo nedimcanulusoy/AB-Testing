{
 "cells": [
  {
   "cell_type": "code",
   "execution_count": 1,
   "id": "31934395",
   "metadata": {
    "execution": {
     "iopub.execute_input": "2022-11-23T14:22:05.532926Z",
     "iopub.status.busy": "2022-11-23T14:22:05.532176Z",
     "iopub.status.idle": "2022-11-23T14:22:06.682544Z",
     "shell.execute_reply": "2022-11-23T14:22:06.681467Z"
    },
    "papermill": {
     "duration": 1.162071,
     "end_time": "2022-11-23T14:22:06.685471",
     "exception": false,
     "start_time": "2022-11-23T14:22:05.523400",
     "status": "completed"
    },
    "tags": []
   },
   "outputs": [],
   "source": [
    "import pandas as pd\n",
    "import seaborn as sns\n",
    "from scipy.stats import shapiro, levene, ttest_ind"
   ]
  },
  {
   "cell_type": "code",
   "execution_count": 2,
   "id": "9df479d2",
   "metadata": {
    "execution": {
     "iopub.execute_input": "2022-11-23T14:22:06.700783Z",
     "iopub.status.busy": "2022-11-23T14:22:06.699685Z",
     "iopub.status.idle": "2022-11-23T14:22:07.119941Z",
     "shell.execute_reply": "2022-11-23T14:22:07.118713Z"
    },
    "papermill": {
     "duration": 0.430639,
     "end_time": "2022-11-23T14:22:07.122683",
     "exception": false,
     "start_time": "2022-11-23T14:22:06.692044",
     "status": "completed"
    },
    "tags": []
   },
   "outputs": [],
   "source": [
    "control = pd.read_excel('/kaggle/input/ab-testing-data/ab_testing.xlsx', sheet_name = \"Control Group\")\n",
    "test = pd.read_excel('/kaggle/input/ab-testing-data/ab_testing.xlsx', sheet_name = \"Test Group\")"
   ]
  },
  {
   "cell_type": "code",
   "execution_count": 3,
   "id": "66f0bf3c",
   "metadata": {
    "execution": {
     "iopub.execute_input": "2022-11-23T14:22:07.136465Z",
     "iopub.status.busy": "2022-11-23T14:22:07.136048Z",
     "iopub.status.idle": "2022-11-23T14:22:07.156472Z",
     "shell.execute_reply": "2022-11-23T14:22:07.155259Z"
    },
    "papermill": {
     "duration": 0.030156,
     "end_time": "2022-11-23T14:22:07.158943",
     "exception": false,
     "start_time": "2022-11-23T14:22:07.128787",
     "status": "completed"
    },
    "tags": []
   },
   "outputs": [
    {
     "data": {
      "text/html": [
       "<div>\n",
       "<style scoped>\n",
       "    .dataframe tbody tr th:only-of-type {\n",
       "        vertical-align: middle;\n",
       "    }\n",
       "\n",
       "    .dataframe tbody tr th {\n",
       "        vertical-align: top;\n",
       "    }\n",
       "\n",
       "    .dataframe thead th {\n",
       "        text-align: right;\n",
       "    }\n",
       "</style>\n",
       "<table border=\"1\" class=\"dataframe\">\n",
       "  <thead>\n",
       "    <tr style=\"text-align: right;\">\n",
       "      <th></th>\n",
       "      <th>Impression</th>\n",
       "      <th>Click</th>\n",
       "      <th>Purchase</th>\n",
       "      <th>Earning</th>\n",
       "    </tr>\n",
       "  </thead>\n",
       "  <tbody>\n",
       "    <tr>\n",
       "      <th>0</th>\n",
       "      <td>82529.459271</td>\n",
       "      <td>6090.077317</td>\n",
       "      <td>665.211255</td>\n",
       "      <td>2311.277143</td>\n",
       "    </tr>\n",
       "    <tr>\n",
       "      <th>1</th>\n",
       "      <td>98050.451926</td>\n",
       "      <td>3382.861786</td>\n",
       "      <td>315.084895</td>\n",
       "      <td>1742.806855</td>\n",
       "    </tr>\n",
       "    <tr>\n",
       "      <th>2</th>\n",
       "      <td>82696.023549</td>\n",
       "      <td>4167.965750</td>\n",
       "      <td>458.083738</td>\n",
       "      <td>1797.827447</td>\n",
       "    </tr>\n",
       "    <tr>\n",
       "      <th>3</th>\n",
       "      <td>109914.400398</td>\n",
       "      <td>4910.882240</td>\n",
       "      <td>487.090773</td>\n",
       "      <td>1696.229178</td>\n",
       "    </tr>\n",
       "    <tr>\n",
       "      <th>4</th>\n",
       "      <td>108457.762630</td>\n",
       "      <td>5987.655811</td>\n",
       "      <td>441.034050</td>\n",
       "      <td>1543.720179</td>\n",
       "    </tr>\n",
       "  </tbody>\n",
       "</table>\n",
       "</div>"
      ],
      "text/plain": [
       "      Impression        Click    Purchase      Earning\n",
       "0   82529.459271  6090.077317  665.211255  2311.277143\n",
       "1   98050.451926  3382.861786  315.084895  1742.806855\n",
       "2   82696.023549  4167.965750  458.083738  1797.827447\n",
       "3  109914.400398  4910.882240  487.090773  1696.229178\n",
       "4  108457.762630  5987.655811  441.034050  1543.720179"
      ]
     },
     "execution_count": 3,
     "metadata": {},
     "output_type": "execute_result"
    }
   ],
   "source": [
    "control.head()"
   ]
  },
  {
   "cell_type": "code",
   "execution_count": 4,
   "id": "648df1f1",
   "metadata": {
    "execution": {
     "iopub.execute_input": "2022-11-23T14:22:07.173076Z",
     "iopub.status.busy": "2022-11-23T14:22:07.172684Z",
     "iopub.status.idle": "2022-11-23T14:22:07.210144Z",
     "shell.execute_reply": "2022-11-23T14:22:07.209060Z"
    },
    "papermill": {
     "duration": 0.047217,
     "end_time": "2022-11-23T14:22:07.212442",
     "exception": false,
     "start_time": "2022-11-23T14:22:07.165225",
     "status": "completed"
    },
    "tags": []
   },
   "outputs": [
    {
     "data": {
      "text/html": [
       "<div>\n",
       "<style scoped>\n",
       "    .dataframe tbody tr th:only-of-type {\n",
       "        vertical-align: middle;\n",
       "    }\n",
       "\n",
       "    .dataframe tbody tr th {\n",
       "        vertical-align: top;\n",
       "    }\n",
       "\n",
       "    .dataframe thead th {\n",
       "        text-align: right;\n",
       "    }\n",
       "</style>\n",
       "<table border=\"1\" class=\"dataframe\">\n",
       "  <thead>\n",
       "    <tr style=\"text-align: right;\">\n",
       "      <th></th>\n",
       "      <th>count</th>\n",
       "      <th>mean</th>\n",
       "      <th>std</th>\n",
       "      <th>min</th>\n",
       "      <th>25%</th>\n",
       "      <th>50%</th>\n",
       "      <th>75%</th>\n",
       "      <th>max</th>\n",
       "    </tr>\n",
       "  </thead>\n",
       "  <tbody>\n",
       "    <tr>\n",
       "      <th>Impression</th>\n",
       "      <td>40.0</td>\n",
       "      <td>101711.449068</td>\n",
       "      <td>20302.157862</td>\n",
       "      <td>45475.942965</td>\n",
       "      <td>85726.690349</td>\n",
       "      <td>99790.701078</td>\n",
       "      <td>115212.816543</td>\n",
       "      <td>147539.336329</td>\n",
       "    </tr>\n",
       "    <tr>\n",
       "      <th>Click</th>\n",
       "      <td>40.0</td>\n",
       "      <td>5100.657373</td>\n",
       "      <td>1329.985498</td>\n",
       "      <td>2189.753157</td>\n",
       "      <td>4124.304129</td>\n",
       "      <td>5001.220602</td>\n",
       "      <td>5923.803596</td>\n",
       "      <td>7959.125069</td>\n",
       "    </tr>\n",
       "    <tr>\n",
       "      <th>Purchase</th>\n",
       "      <td>40.0</td>\n",
       "      <td>550.894059</td>\n",
       "      <td>134.108201</td>\n",
       "      <td>267.028943</td>\n",
       "      <td>470.095533</td>\n",
       "      <td>531.206307</td>\n",
       "      <td>637.957088</td>\n",
       "      <td>801.795020</td>\n",
       "    </tr>\n",
       "    <tr>\n",
       "      <th>Earning</th>\n",
       "      <td>40.0</td>\n",
       "      <td>1908.568300</td>\n",
       "      <td>302.917783</td>\n",
       "      <td>1253.989525</td>\n",
       "      <td>1685.847205</td>\n",
       "      <td>1975.160522</td>\n",
       "      <td>2119.802784</td>\n",
       "      <td>2497.295218</td>\n",
       "    </tr>\n",
       "  </tbody>\n",
       "</table>\n",
       "</div>"
      ],
      "text/plain": [
       "            count           mean           std           min           25%  \\\n",
       "Impression   40.0  101711.449068  20302.157862  45475.942965  85726.690349   \n",
       "Click        40.0    5100.657373   1329.985498   2189.753157   4124.304129   \n",
       "Purchase     40.0     550.894059    134.108201    267.028943    470.095533   \n",
       "Earning      40.0    1908.568300    302.917783   1253.989525   1685.847205   \n",
       "\n",
       "                     50%            75%            max  \n",
       "Impression  99790.701078  115212.816543  147539.336329  \n",
       "Click        5001.220602    5923.803596    7959.125069  \n",
       "Purchase      531.206307     637.957088     801.795020  \n",
       "Earning      1975.160522    2119.802784    2497.295218  "
      ]
     },
     "execution_count": 4,
     "metadata": {},
     "output_type": "execute_result"
    }
   ],
   "source": [
    "control.describe().T"
   ]
  },
  {
   "cell_type": "code",
   "execution_count": 5,
   "id": "8a6c0efa",
   "metadata": {
    "execution": {
     "iopub.execute_input": "2022-11-23T14:22:07.226895Z",
     "iopub.status.busy": "2022-11-23T14:22:07.226467Z",
     "iopub.status.idle": "2022-11-23T14:22:07.239056Z",
     "shell.execute_reply": "2022-11-23T14:22:07.237538Z"
    },
    "papermill": {
     "duration": 0.02251,
     "end_time": "2022-11-23T14:22:07.241376",
     "exception": false,
     "start_time": "2022-11-23T14:22:07.218866",
     "status": "completed"
    },
    "tags": []
   },
   "outputs": [
    {
     "data": {
      "text/html": [
       "<div>\n",
       "<style scoped>\n",
       "    .dataframe tbody tr th:only-of-type {\n",
       "        vertical-align: middle;\n",
       "    }\n",
       "\n",
       "    .dataframe tbody tr th {\n",
       "        vertical-align: top;\n",
       "    }\n",
       "\n",
       "    .dataframe thead th {\n",
       "        text-align: right;\n",
       "    }\n",
       "</style>\n",
       "<table border=\"1\" class=\"dataframe\">\n",
       "  <thead>\n",
       "    <tr style=\"text-align: right;\">\n",
       "      <th></th>\n",
       "      <th>Impression</th>\n",
       "      <th>Click</th>\n",
       "      <th>Purchase</th>\n",
       "      <th>Earning</th>\n",
       "    </tr>\n",
       "  </thead>\n",
       "  <tbody>\n",
       "    <tr>\n",
       "      <th>0</th>\n",
       "      <td>120103.503796</td>\n",
       "      <td>3216.547958</td>\n",
       "      <td>702.160346</td>\n",
       "      <td>1939.611243</td>\n",
       "    </tr>\n",
       "    <tr>\n",
       "      <th>1</th>\n",
       "      <td>134775.943363</td>\n",
       "      <td>3635.082422</td>\n",
       "      <td>834.054286</td>\n",
       "      <td>2929.405820</td>\n",
       "    </tr>\n",
       "    <tr>\n",
       "      <th>2</th>\n",
       "      <td>107806.620788</td>\n",
       "      <td>3057.143560</td>\n",
       "      <td>422.934258</td>\n",
       "      <td>2526.244877</td>\n",
       "    </tr>\n",
       "    <tr>\n",
       "      <th>3</th>\n",
       "      <td>116445.275526</td>\n",
       "      <td>4650.473911</td>\n",
       "      <td>429.033535</td>\n",
       "      <td>2281.428574</td>\n",
       "    </tr>\n",
       "    <tr>\n",
       "      <th>4</th>\n",
       "      <td>145082.516838</td>\n",
       "      <td>5201.387724</td>\n",
       "      <td>749.860442</td>\n",
       "      <td>2781.697521</td>\n",
       "    </tr>\n",
       "  </tbody>\n",
       "</table>\n",
       "</div>"
      ],
      "text/plain": [
       "      Impression        Click    Purchase      Earning\n",
       "0  120103.503796  3216.547958  702.160346  1939.611243\n",
       "1  134775.943363  3635.082422  834.054286  2929.405820\n",
       "2  107806.620788  3057.143560  422.934258  2526.244877\n",
       "3  116445.275526  4650.473911  429.033535  2281.428574\n",
       "4  145082.516838  5201.387724  749.860442  2781.697521"
      ]
     },
     "execution_count": 5,
     "metadata": {},
     "output_type": "execute_result"
    }
   ],
   "source": [
    "test.head()"
   ]
  },
  {
   "cell_type": "code",
   "execution_count": 6,
   "id": "78f8edee",
   "metadata": {
    "execution": {
     "iopub.execute_input": "2022-11-23T14:22:07.256240Z",
     "iopub.status.busy": "2022-11-23T14:22:07.255825Z",
     "iopub.status.idle": "2022-11-23T14:22:07.281739Z",
     "shell.execute_reply": "2022-11-23T14:22:07.280465Z"
    },
    "papermill": {
     "duration": 0.036177,
     "end_time": "2022-11-23T14:22:07.284187",
     "exception": false,
     "start_time": "2022-11-23T14:22:07.248010",
     "status": "completed"
    },
    "tags": []
   },
   "outputs": [
    {
     "data": {
      "text/html": [
       "<div>\n",
       "<style scoped>\n",
       "    .dataframe tbody tr th:only-of-type {\n",
       "        vertical-align: middle;\n",
       "    }\n",
       "\n",
       "    .dataframe tbody tr th {\n",
       "        vertical-align: top;\n",
       "    }\n",
       "\n",
       "    .dataframe thead th {\n",
       "        text-align: right;\n",
       "    }\n",
       "</style>\n",
       "<table border=\"1\" class=\"dataframe\">\n",
       "  <thead>\n",
       "    <tr style=\"text-align: right;\">\n",
       "      <th></th>\n",
       "      <th>count</th>\n",
       "      <th>mean</th>\n",
       "      <th>std</th>\n",
       "      <th>min</th>\n",
       "      <th>25%</th>\n",
       "      <th>50%</th>\n",
       "      <th>75%</th>\n",
       "      <th>max</th>\n",
       "    </tr>\n",
       "  </thead>\n",
       "  <tbody>\n",
       "    <tr>\n",
       "      <th>Impression</th>\n",
       "      <td>40.0</td>\n",
       "      <td>120512.411758</td>\n",
       "      <td>18807.448712</td>\n",
       "      <td>79033.834921</td>\n",
       "      <td>112691.970770</td>\n",
       "      <td>119291.300775</td>\n",
       "      <td>132050.578933</td>\n",
       "      <td>158605.920483</td>\n",
       "    </tr>\n",
       "    <tr>\n",
       "      <th>Click</th>\n",
       "      <td>40.0</td>\n",
       "      <td>3967.549761</td>\n",
       "      <td>923.095073</td>\n",
       "      <td>1836.629861</td>\n",
       "      <td>3376.819024</td>\n",
       "      <td>3931.359804</td>\n",
       "      <td>4660.497911</td>\n",
       "      <td>6019.695079</td>\n",
       "    </tr>\n",
       "    <tr>\n",
       "      <th>Purchase</th>\n",
       "      <td>40.0</td>\n",
       "      <td>582.106097</td>\n",
       "      <td>161.152513</td>\n",
       "      <td>311.629515</td>\n",
       "      <td>444.626828</td>\n",
       "      <td>551.355732</td>\n",
       "      <td>699.862360</td>\n",
       "      <td>889.910460</td>\n",
       "    </tr>\n",
       "    <tr>\n",
       "      <th>Earning</th>\n",
       "      <td>40.0</td>\n",
       "      <td>2514.890733</td>\n",
       "      <td>282.730852</td>\n",
       "      <td>1939.611243</td>\n",
       "      <td>2280.537426</td>\n",
       "      <td>2544.666107</td>\n",
       "      <td>2761.545405</td>\n",
       "      <td>3171.489708</td>\n",
       "    </tr>\n",
       "  </tbody>\n",
       "</table>\n",
       "</div>"
      ],
      "text/plain": [
       "            count           mean           std           min            25%  \\\n",
       "Impression   40.0  120512.411758  18807.448712  79033.834921  112691.970770   \n",
       "Click        40.0    3967.549761    923.095073   1836.629861    3376.819024   \n",
       "Purchase     40.0     582.106097    161.152513    311.629515     444.626828   \n",
       "Earning      40.0    2514.890733    282.730852   1939.611243    2280.537426   \n",
       "\n",
       "                      50%            75%            max  \n",
       "Impression  119291.300775  132050.578933  158605.920483  \n",
       "Click         3931.359804    4660.497911    6019.695079  \n",
       "Purchase       551.355732     699.862360     889.910460  \n",
       "Earning       2544.666107    2761.545405    3171.489708  "
      ]
     },
     "execution_count": 6,
     "metadata": {},
     "output_type": "execute_result"
    }
   ],
   "source": [
    "test.describe().T"
   ]
  },
  {
   "cell_type": "code",
   "execution_count": 7,
   "id": "e867c7a5",
   "metadata": {
    "execution": {
     "iopub.execute_input": "2022-11-23T14:22:07.300255Z",
     "iopub.status.busy": "2022-11-23T14:22:07.299825Z",
     "iopub.status.idle": "2022-11-23T14:22:07.368779Z",
     "shell.execute_reply": "2022-11-23T14:22:07.367785Z"
    },
    "papermill": {
     "duration": 0.081686,
     "end_time": "2022-11-23T14:22:07.372665",
     "exception": false,
     "start_time": "2022-11-23T14:22:07.290979",
     "status": "completed"
    },
    "tags": []
   },
   "outputs": [
    {
     "name": "stdout",
     "output_type": "stream",
     "text": [
      "--------- HEAD ---------\n",
      "      Impression        Click    Purchase      Earning\n",
      "0   82529.459271  6090.077317  665.211255  2311.277143\n",
      "1   98050.451926  3382.861786  315.084895  1742.806855\n",
      "2   82696.023549  4167.965750  458.083738  1797.827447\n",
      "3  109914.400398  4910.882240  487.090773  1696.229178\n",
      "4  108457.762630  5987.655811  441.034050  1543.720179\n",
      "5   77773.633900  4462.206586  519.669656  2081.851850\n",
      "6   95110.586266  3555.580670  512.928746  1815.006614\n",
      "7  106649.183075  4358.027043  747.020123  1965.100400\n",
      "8  122709.716594  5091.558964  745.985682  1651.662991\n",
      "9   79498.248658  6653.845515  470.501367  2456.304240\n",
      "--------- SHAPE ---------\n",
      "(40, 4)\n",
      "--------- COLUMNS ---------\n",
      "Index(['Impression', 'Click', 'Purchase', 'Earning'], dtype='object')\n",
      "--------- DESCRIBE ---------\n",
      "            count           mean           std           min           25%  \\\n",
      "Impression   40.0  101711.449068  20302.157862  45475.942965  85726.690349   \n",
      "Click        40.0    5100.657373   1329.985498   2189.753157   4124.304129   \n",
      "Purchase     40.0     550.894059    134.108201    267.028943    470.095533   \n",
      "Earning      40.0    1908.568300    302.917783   1253.989525   1685.847205   \n",
      "\n",
      "                     50%            75%            max  \n",
      "Impression  99790.701078  115212.816543  147539.336329  \n",
      "Click        5001.220602    5923.803596    7959.125069  \n",
      "Purchase      531.206307     637.957088     801.795020  \n",
      "Earning      1975.160522    2119.802784    2497.295218  \n",
      "--------- INFO ---------\n",
      "<class 'pandas.core.frame.DataFrame'>\n",
      "RangeIndex: 40 entries, 0 to 39\n",
      "Data columns (total 4 columns):\n",
      " #   Column      Non-Null Count  Dtype  \n",
      "---  ------      --------------  -----  \n",
      " 0   Impression  40 non-null     float64\n",
      " 1   Click       40 non-null     float64\n",
      " 2   Purchase    40 non-null     float64\n",
      " 3   Earning     40 non-null     float64\n",
      "dtypes: float64(4)\n",
      "memory usage: 1.4 KB\n",
      "None\n",
      "--------- FREQUENCY ---------\n",
      "Impression    40\n",
      "Click         40\n",
      "Purchase      40\n",
      "Earning       40\n",
      "dtype: int64\n",
      "--------- ANY NULL VALUES ---------\n",
      "False\n",
      "--------- SUM OF NULL VALUES ---------\n",
      "Impression    0\n",
      "Click         0\n",
      "Purchase      0\n",
      "Earning       0\n",
      "dtype: int64\n",
      "-/-/-/-/-/-/-/-/-/-/-/-/-/-/-/-/-/-/-/-/-/-/-/-/-/-/-/-/\n",
      "--------- HEAD ---------\n",
      "      Impression        Click    Purchase      Earning\n",
      "0  120103.503796  3216.547958  702.160346  1939.611243\n",
      "1  134775.943363  3635.082422  834.054286  2929.405820\n",
      "2  107806.620788  3057.143560  422.934258  2526.244877\n",
      "3  116445.275526  4650.473911  429.033535  2281.428574\n",
      "4  145082.516838  5201.387724  749.860442  2781.697521\n",
      "5  115923.006949  4213.868620  778.373161  2157.408552\n",
      "6  106116.436642  3279.472973  491.614531  2560.411202\n",
      "7  125957.116104  4690.569911  855.719803  2563.579756\n",
      "8  117442.864652  3907.939237  660.477912  2242.232586\n",
      "9  131271.715604  4721.187812  532.279336  2368.108569\n",
      "--------- SHAPE ---------\n",
      "(40, 4)\n",
      "--------- COLUMNS ---------\n",
      "Index(['Impression', 'Click', 'Purchase', 'Earning'], dtype='object')\n",
      "--------- DESCRIBE ---------\n",
      "            count           mean           std           min            25%  \\\n",
      "Impression   40.0  120512.411758  18807.448712  79033.834921  112691.970770   \n",
      "Click        40.0    3967.549761    923.095073   1836.629861    3376.819024   \n",
      "Purchase     40.0     582.106097    161.152513    311.629515     444.626828   \n",
      "Earning      40.0    2514.890733    282.730852   1939.611243    2280.537426   \n",
      "\n",
      "                      50%            75%            max  \n",
      "Impression  119291.300775  132050.578933  158605.920483  \n",
      "Click         3931.359804    4660.497911    6019.695079  \n",
      "Purchase       551.355732     699.862360     889.910460  \n",
      "Earning       2544.666107    2761.545405    3171.489708  \n",
      "--------- INFO ---------\n",
      "<class 'pandas.core.frame.DataFrame'>\n",
      "RangeIndex: 40 entries, 0 to 39\n",
      "Data columns (total 4 columns):\n",
      " #   Column      Non-Null Count  Dtype  \n",
      "---  ------      --------------  -----  \n",
      " 0   Impression  40 non-null     float64\n",
      " 1   Click       40 non-null     float64\n",
      " 2   Purchase    40 non-null     float64\n",
      " 3   Earning     40 non-null     float64\n",
      "dtypes: float64(4)\n",
      "memory usage: 1.4 KB\n",
      "None\n",
      "--------- FREQUENCY ---------\n",
      "Impression    40\n",
      "Click         40\n",
      "Purchase      40\n",
      "Earning       40\n",
      "dtype: int64\n",
      "--------- ANY NULL VALUES ---------\n",
      "False\n",
      "--------- SUM OF NULL VALUES ---------\n",
      "Impression    0\n",
      "Click         0\n",
      "Purchase      0\n",
      "Earning       0\n",
      "dtype: int64\n"
     ]
    }
   ],
   "source": [
    "def quick_info(dataframe):\n",
    "    print(\"--------- HEAD ---------\")\n",
    "    print(dataframe.head(10))\n",
    "    print(\"--------- SHAPE ---------\")\n",
    "    print(dataframe.shape)\n",
    "    print(\"--------- COLUMNS ---------\")\n",
    "    print(dataframe.columns)\n",
    "    print(\"--------- DESCRIBE ---------\")\n",
    "    print(dataframe.describe().T)\n",
    "    print(\"--------- INFO ---------\")\n",
    "    print(dataframe.info())\n",
    "    print(\"--------- FREQUENCY ---------\")\n",
    "    print(dataframe.nunique())\n",
    "    print(\"--------- ANY NULL VALUES ---------\")\n",
    "    print(dataframe.isnull().values.any())\n",
    "    print(\"--------- SUM OF NULL VALUES ---------\")\n",
    "    print(dataframe.isnull().sum())\n",
    "\n",
    "quick_info(control)\n",
    "print(28*'-/')\n",
    "quick_info(test)"
   ]
  },
  {
   "cell_type": "code",
   "execution_count": 8,
   "id": "3d0148a4",
   "metadata": {
    "execution": {
     "iopub.execute_input": "2022-11-23T14:22:07.390167Z",
     "iopub.status.busy": "2022-11-23T14:22:07.389644Z",
     "iopub.status.idle": "2022-11-23T14:22:07.738012Z",
     "shell.execute_reply": "2022-11-23T14:22:07.737211Z"
    },
    "papermill": {
     "duration": 0.360472,
     "end_time": "2022-11-23T14:22:07.740161",
     "exception": false,
     "start_time": "2022-11-23T14:22:07.379689",
     "status": "completed"
    },
    "tags": []
   },
   "outputs": [
    {
     "data": {
      "text/plain": [
       "<AxesSubplot:>"
      ]
     },
     "execution_count": 8,
     "metadata": {},
     "output_type": "execute_result"
    },
    {
     "data": {
      "image/png": "[encoded data removed]",
      "text/plain": [
       "<Figure size 432x288 with 2 Axes>"
      ]
     },
     "metadata": {
      "needs_background": "light"
     },
     "output_type": "display_data"
    }
   ],
   "source": [
    "sns.heatmap(control.corr(), annot = True, cmap = \"viridis\")"
   ]
  },
  {
   "cell_type": "code",
   "execution_count": 9,
   "id": "b8b0b843",
   "metadata": {
    "execution": {
     "iopub.execute_input": "2022-11-23T14:22:07.757289Z",
     "iopub.status.busy": "2022-11-23T14:22:07.756358Z",
     "iopub.status.idle": "2022-11-23T14:22:08.094919Z",
     "shell.execute_reply": "2022-11-23T14:22:08.093669Z"
    },
    "papermill": {
     "duration": 0.350057,
     "end_time": "2022-11-23T14:22:08.097655",
     "exception": false,
     "start_time": "2022-11-23T14:22:07.747598",
     "status": "completed"
    },
    "tags": []
   },
   "outputs": [
    {
     "data": {
      "text/plain": [
       "<AxesSubplot:>"
      ]
     },
     "execution_count": 9,
     "metadata": {},
     "output_type": "execute_result"
    },
    {
     "data": {
      "image/png": "[encoded data removed]",
      "text/plain": [
       "<Figure size 432x288 with 2 Axes>"
      ]
     },
     "metadata": {
      "needs_background": "light"
     },
     "output_type": "display_data"
    }
   ],
   "source": [
    "sns.heatmap(test.corr(), annot = True, cmap = \"viridis\")"
   ]
  },
  {
   "cell_type": "code",
   "execution_count": 10,
   "id": "ccea3aba",
   "metadata": {
    "execution": {
     "iopub.execute_input": "2022-11-23T14:22:08.115184Z",
     "iopub.status.busy": "2022-11-23T14:22:08.114764Z",
     "iopub.status.idle": "2022-11-23T14:22:08.121095Z",
     "shell.execute_reply": "2022-11-23T14:22:08.119974Z"
    },
    "papermill": {
     "duration": 0.018193,
     "end_time": "2022-11-23T14:22:08.123706",
     "exception": false,
     "start_time": "2022-11-23T14:22:08.105513",
     "status": "completed"
    },
    "tags": []
   },
   "outputs": [],
   "source": [
    "control['class'] = 'Control'\n",
    "test['class'] = 'Test'"
   ]
  },
  {
   "cell_type": "code",
   "execution_count": 11,
   "id": "8fc18951",
   "metadata": {
    "execution": {
     "iopub.execute_input": "2022-11-23T14:22:08.141062Z",
     "iopub.status.busy": "2022-11-23T14:22:08.140631Z",
     "iopub.status.idle": "2022-11-23T14:22:08.146942Z",
     "shell.execute_reply": "2022-11-23T14:22:08.145755Z"
    },
    "papermill": {
     "duration": 0.017929,
     "end_time": "2022-11-23T14:22:08.149515",
     "exception": false,
     "start_time": "2022-11-23T14:22:08.131586",
     "status": "completed"
    },
    "tags": []
   },
   "outputs": [],
   "source": [
    "df = pd.concat([control, test])"
   ]
  },
  {
   "cell_type": "code",
   "execution_count": 12,
   "id": "3e80f516",
   "metadata": {
    "execution": {
     "iopub.execute_input": "2022-11-23T14:22:08.167299Z",
     "iopub.status.busy": "2022-11-23T14:22:08.166909Z",
     "iopub.status.idle": "2022-11-23T14:22:08.200618Z",
     "shell.execute_reply": "2022-11-23T14:22:08.198640Z"
    },
    "papermill": {
     "duration": 0.046279,
     "end_time": "2022-11-23T14:22:08.203716",
     "exception": false,
     "start_time": "2022-11-23T14:22:08.157437",
     "status": "completed"
    },
    "tags": []
   },
   "outputs": [
    {
     "name": "stdout",
     "output_type": "stream",
     "text": [
      "--------- HEAD ---------\n",
      "      Impression        Click    Purchase      Earning    class\n",
      "0   82529.459271  6090.077317  665.211255  2311.277143  Control\n",
      "1   98050.451926  3382.861786  315.084895  1742.806855  Control\n",
      "2   82696.023549  4167.965750  458.083738  1797.827447  Control\n",
      "3  109914.400398  4910.882240  487.090773  1696.229178  Control\n",
      "4  108457.762630  5987.655811  441.034050  1543.720179  Control\n",
      "5   77773.633900  4462.206586  519.669656  2081.851850  Control\n",
      "6   95110.586266  3555.580670  512.928746  1815.006614  Control\n",
      "7  106649.183075  4358.027043  747.020123  1965.100400  Control\n",
      "8  122709.716594  5091.558964  745.985682  1651.662991  Control\n",
      "9   79498.248658  6653.845515  470.501367  2456.304240  Control\n",
      "--------- SHAPE ---------\n",
      "(80, 5)\n",
      "--------- COLUMNS ---------\n",
      "Index(['Impression', 'Click', 'Purchase', 'Earning', 'class'], dtype='object')\n",
      "--------- DESCRIBE ---------\n",
      "            count           mean           std           min           25%  \\\n",
      "Impression   80.0  111111.930413  21623.807747  45475.942965  95063.860626   \n",
      "Click        80.0    4534.103567   1272.376073   1836.629861   3632.891835   \n",
      "Purchase     80.0     566.500078    148.141840    267.028943    458.137878   \n",
      "Earning      80.0    2211.729516    421.700575   1253.989525   1945.713157   \n",
      "\n",
      "                      50%            75%            max  \n",
      "Impression  114037.035002  124138.652391  158605.920483  \n",
      "Click         4321.602826    5272.616062    7959.125069  \n",
      "Purchase       532.125084     679.557595     889.910460  \n",
      "Earning       2205.536256    2541.377520    3171.489708  \n",
      "--------- INFO ---------\n",
      "<class 'pandas.core.frame.DataFrame'>\n",
      "Int64Index: 80 entries, 0 to 39\n",
      "Data columns (total 5 columns):\n",
      " #   Column      Non-Null Count  Dtype  \n",
      "---  ------      --------------  -----  \n",
      " 0   Impression  80 non-null     float64\n",
      " 1   Click       80 non-null     float64\n",
      " 2   Purchase    80 non-null     float64\n",
      " 3   Earning     80 non-null     float64\n",
      " 4   class       80 non-null     object \n",
      "dtypes: float64(4), object(1)\n",
      "memory usage: 3.8+ KB\n",
      "None\n",
      "--------- FREQUENCY ---------\n",
      "Impression    80\n",
      "Click         80\n",
      "Purchase      80\n",
      "Earning       80\n",
      "class          2\n",
      "dtype: int64\n",
      "--------- ANY NULL VALUES ---------\n",
      "False\n",
      "--------- SUM OF NULL VALUES ---------\n",
      "Impression    0\n",
      "Click         0\n",
      "Purchase      0\n",
      "Earning       0\n",
      "class         0\n",
      "dtype: int64\n"
     ]
    }
   ],
   "source": [
    "quick_info(df)"
   ]
  },
  {
   "cell_type": "markdown",
   "id": "a582ec84",
   "metadata": {
    "papermill": {
     "duration": 0.007817,
     "end_time": "2022-11-23T14:22:08.220000",
     "exception": false,
     "start_time": "2022-11-23T14:22:08.212183",
     "status": "completed"
    },
    "tags": []
   },
   "source": [
    "##### Defining the A/B Test Hypothesis\n",
    "---\n",
    "1) Define the hypothesis.\n",
    "\n",
    "\n",
    " H0 : M1 = M2 -> There is **NO** statistically significant difference between the mean gains of the control and test groups.\n",
    "\n",
    " H1 : M1 != M2 -> There **is a** statistically significant difference between the mean gains of the control and test groups.\n",
    "\n",
    "---\n",
    "\n",
    "2) Analyze the purchase averages for the control and test group"
   ]
  },
  {
   "cell_type": "code",
   "execution_count": 13,
   "id": "aed9eda4",
   "metadata": {
    "execution": {
     "iopub.execute_input": "2022-11-23T14:22:08.237704Z",
     "iopub.status.busy": "2022-11-23T14:22:08.237279Z",
     "iopub.status.idle": "2022-11-23T14:22:08.251136Z",
     "shell.execute_reply": "2022-11-23T14:22:08.249909Z"
    },
    "papermill": {
     "duration": 0.02534,
     "end_time": "2022-11-23T14:22:08.253399",
     "exception": false,
     "start_time": "2022-11-23T14:22:08.228059",
     "status": "completed"
    },
    "tags": []
   },
   "outputs": [
    {
     "data": {
      "text/html": [
       "<div>\n",
       "<style scoped>\n",
       "    .dataframe tbody tr th:only-of-type {\n",
       "        vertical-align: middle;\n",
       "    }\n",
       "\n",
       "    .dataframe tbody tr th {\n",
       "        vertical-align: top;\n",
       "    }\n",
       "\n",
       "    .dataframe thead th {\n",
       "        text-align: right;\n",
       "    }\n",
       "</style>\n",
       "<table border=\"1\" class=\"dataframe\">\n",
       "  <thead>\n",
       "    <tr style=\"text-align: right;\">\n",
       "      <th></th>\n",
       "      <th>Purchase</th>\n",
       "    </tr>\n",
       "    <tr>\n",
       "      <th>class</th>\n",
       "      <th></th>\n",
       "    </tr>\n",
       "  </thead>\n",
       "  <tbody>\n",
       "    <tr>\n",
       "      <th>Control</th>\n",
       "      <td>550.894059</td>\n",
       "    </tr>\n",
       "    <tr>\n",
       "      <th>Test</th>\n",
       "      <td>582.106097</td>\n",
       "    </tr>\n",
       "  </tbody>\n",
       "</table>\n",
       "</div>"
      ],
      "text/plain": [
       "           Purchase\n",
       "class              \n",
       "Control  550.894059\n",
       "Test     582.106097"
      ]
     },
     "execution_count": 13,
     "metadata": {},
     "output_type": "execute_result"
    }
   ],
   "source": [
    "df.groupby(\"class\").agg({\"Purchase\":\"mean\"})"
   ]
  },
  {
   "cell_type": "markdown",
   "id": "60272c66",
   "metadata": {
    "papermill": {
     "duration": 0.007853,
     "end_time": "2022-11-23T14:22:08.269364",
     "exception": false,
     "start_time": "2022-11-23T14:22:08.261511",
     "status": "completed"
    },
    "tags": []
   },
   "source": [
    "There is a difference in the average earnings of the two groups on a mathematical basis. Therefore we can ask these two questions;\n",
    "\n",
    "Is there really a significant difference? Or did this difference come about by chance?"
   ]
  },
  {
   "cell_type": "markdown",
   "id": "c4a489e0",
   "metadata": {
    "papermill": {
     "duration": 0.007728,
     "end_time": "2022-11-23T14:22:08.285319",
     "exception": false,
     "start_time": "2022-11-23T14:22:08.277591",
     "status": "completed"
    },
    "tags": []
   },
   "source": [
    "##### **Performing Hypothesis Testing**\n",
    "##### AB Testing (Independent Two-Sample T-Test)\n",
    "\n",
    "---\n",
    "\n",
    "1) Before testing the hypothesis, check the assumptions. These are Assumption of Normality and Homogeneity of Variance. Test separately whether the control and test groups comply with the assumption of normality over the Purchase variable."
   ]
  },
  {
   "cell_type": "markdown",
   "id": "07ce6ffe",
   "metadata": {
    "papermill": {
     "duration": 0.007694,
     "end_time": "2022-11-23T14:22:08.301061",
     "exception": false,
     "start_time": "2022-11-23T14:22:08.293367",
     "status": "completed"
    },
    "tags": []
   },
   "source": [
    "Normality Assumption:\n",
    "> H0: Normal distribution assumption is provided.\n",
    "\n",
    "> H1: Normal distribution assumption is not provided.\n",
    "\n",
    "> p < 0.05 H0 REJECT, p > 0.05 H0 CANNOT REJECT\n",
    "\n",
    "> Is the assumption of normality according to the test result provided for the control and test groups? Interpret the p-values obtained.\n",
    "\n",
    "Variance Homogeneity:\n",
    "\n",
    "> H0: Variances are homogeneous.\n",
    "\n",
    "> H1: Variances are not homogeneous.\n",
    "\n",
    "> p < 0.05 H0 REJECT , p > 0.05 H0 CANNOT REJECT\n",
    "\n",
    "Test whether the homogeneity of variance is provided for the control and test groups over the Purchase variable.\n",
    "\n",
    "Is the assumption of normality provided according to the test result? Interpret the p-values obtained."
   ]
  },
  {
   "cell_type": "code",
   "execution_count": 14,
   "id": "c3e7ac73",
   "metadata": {
    "execution": {
     "iopub.execute_input": "2022-11-23T14:22:08.319475Z",
     "iopub.status.busy": "2022-11-23T14:22:08.318814Z",
     "iopub.status.idle": "2022-11-23T14:22:08.326650Z",
     "shell.execute_reply": "2022-11-23T14:22:08.324935Z"
    },
    "papermill": {
     "duration": 0.019897,
     "end_time": "2022-11-23T14:22:08.329088",
     "exception": false,
     "start_time": "2022-11-23T14:22:08.309191",
     "status": "completed"
    },
    "tags": []
   },
   "outputs": [
    {
     "name": "stdout",
     "output_type": "stream",
     "text": [
      "Test Stat = 0.977, p-value = 0.589\n"
     ]
    }
   ],
   "source": [
    "test_stat, pvalue = shapiro(df.loc[df[\"class\"]==\"Control\", \"Purchase\"])\n",
    "print('Test Stat = %.3f, p-value = %.3f' % (test_stat, pvalue))"
   ]
  },
  {
   "cell_type": "code",
   "execution_count": 15,
   "id": "6b32ef07",
   "metadata": {
    "execution": {
     "iopub.execute_input": "2022-11-23T14:22:08.347322Z",
     "iopub.status.busy": "2022-11-23T14:22:08.346932Z",
     "iopub.status.idle": "2022-11-23T14:22:08.353247Z",
     "shell.execute_reply": "2022-11-23T14:22:08.352167Z"
    },
    "papermill": {
     "duration": 0.018548,
     "end_time": "2022-11-23T14:22:08.355949",
     "exception": false,
     "start_time": "2022-11-23T14:22:08.337401",
     "status": "completed"
    },
    "tags": []
   },
   "outputs": [
    {
     "name": "stdout",
     "output_type": "stream",
     "text": [
      "Test Stat = 0.959, p-value = 0.154\n"
     ]
    }
   ],
   "source": [
    "test_stat, pvalue = shapiro(df.loc[df[\"class\"]==\"Test\", \"Purchase\"])\n",
    "print('Test Stat = %.3f, p-value = %.3f' % (test_stat, pvalue))"
   ]
  },
  {
   "cell_type": "code",
   "execution_count": 16,
   "id": "ff9f8fdb",
   "metadata": {
    "execution": {
     "iopub.execute_input": "2022-11-23T14:22:08.374218Z",
     "iopub.status.busy": "2022-11-23T14:22:08.373843Z",
     "iopub.status.idle": "2022-11-23T14:22:08.381295Z",
     "shell.execute_reply": "2022-11-23T14:22:08.380216Z"
    },
    "papermill": {
     "duration": 0.020816,
     "end_time": "2022-11-23T14:22:08.384989",
     "exception": false,
     "start_time": "2022-11-23T14:22:08.364173",
     "status": "completed"
    },
    "tags": []
   },
   "outputs": [
    {
     "name": "stdout",
     "output_type": "stream",
     "text": [
      "Test Stat = 2.639, p-value = 0.108\n"
     ]
    }
   ],
   "source": [
    "test_stat, pvalue = levene(df.loc[df[\"class\"]==\"Control\", \"Purchase\"], df.loc[df[\"class\"]==\"Test\", \"Purchase\"])\n",
    "print('Test Stat = %.3f, p-value = %.3f' % (test_stat, pvalue))"
   ]
  },
  {
   "cell_type": "markdown",
   "id": "c2ef21c8",
   "metadata": {
    "papermill": {
     "duration": 0.008306,
     "end_time": "2022-11-23T14:22:08.402928",
     "exception": false,
     "start_time": "2022-11-23T14:22:08.394622",
     "status": "completed"
    },
    "tags": []
   },
   "source": [
    "> H0 cannot be rejected as p-value > 0.05 in both groups. The assumption of normality is provided.\n",
    "\n",
    "> H0 cannot be rejected because p-value > 0.05. The mean earnings variances of the two groups are homogeneous."
   ]
  },
  {
   "cell_type": "markdown",
   "id": "ac75fa8c",
   "metadata": {
    "papermill": {
     "duration": 0.00797,
     "end_time": "2022-11-23T14:22:08.419302",
     "exception": false,
     "start_time": "2022-11-23T14:22:08.411332",
     "status": "completed"
    },
    "tags": []
   },
   "source": [
    "2) Select the appropriate test according to the Normality Assumption and Variance Homogeneity results."
   ]
  },
  {
   "cell_type": "code",
   "execution_count": 17,
   "id": "af11e7c6",
   "metadata": {
    "execution": {
     "iopub.execute_input": "2022-11-23T14:22:08.437598Z",
     "iopub.status.busy": "2022-11-23T14:22:08.437211Z",
     "iopub.status.idle": "2022-11-23T14:22:08.445396Z",
     "shell.execute_reply": "2022-11-23T14:22:08.444078Z"
    },
    "papermill": {
     "duration": 0.020333,
     "end_time": "2022-11-23T14:22:08.447878",
     "exception": false,
     "start_time": "2022-11-23T14:22:08.427545",
     "status": "completed"
    },
    "tags": []
   },
   "outputs": [
    {
     "name": "stdout",
     "output_type": "stream",
     "text": [
      "Test Stat = -0.942, p-value = 0.349\n"
     ]
    }
   ],
   "source": [
    "# The t-test is applied as the assumptions are satisfied. (parametric test)\n",
    "\n",
    "test_stat, pvalue = ttest_ind(df.loc[df[\"class\"]==\"Control\", \"Purchase\"], df.loc[df[\"class\"]==\"Test\", \"Purchase\"])\n",
    "print('Test Stat = %.3f, p-value = %.3f' % (test_stat, pvalue))"
   ]
  },
  {
   "cell_type": "markdown",
   "id": "ab3c1e00",
   "metadata": {
    "execution": {
     "iopub.execute_input": "2022-11-23T14:00:43.115333Z",
     "iopub.status.busy": "2022-11-23T14:00:43.114927Z",
     "iopub.status.idle": "2022-11-23T14:00:43.122151Z",
     "shell.execute_reply": "2022-11-23T14:00:43.121048Z",
     "shell.execute_reply.started": "2022-11-23T14:00:43.115302Z"
    },
    "papermill": {
     "duration": 0.008073,
     "end_time": "2022-11-23T14:22:08.464374",
     "exception": false,
     "start_time": "2022-11-23T14:22:08.456301",
     "status": "completed"
    },
    "tags": []
   },
   "source": [
    "3) Considering the p_value obtained as a result of the test, interpret whether there is a statistically significant difference between the purchasing averages of the control and test groups.\n",
    "\n",
    "     H0 cannot be rejected because the p-value is greater than 0.05. Therefore, there is no statistically significant difference between the purchasing averages of the control and test groups. The difference arose by chance."
   ]
  },
  {
   "cell_type": "markdown",
   "id": "5990421f",
   "metadata": {
    "papermill": {
     "duration": 0.00795,
     "end_time": "2022-11-23T14:22:08.480708",
     "exception": false,
     "start_time": "2022-11-23T14:22:08.472758",
     "status": "completed"
    },
    "tags": []
   },
   "source": [
    "##### Analysis of Results\n",
    "1) Which test was used, specify the reasons.\n",
    "\n",
    "> The t-test was applied as the assumptions were satisfied.\n",
    "\n",
    "2) Advise the customer according to the test results you have obtained.\n",
    "\n",
    "> As a result of the analysis, it was found that the Purchase average value, which was created by taking the Maximum Bidding in the control group and the Average Bidding in the test group, did not make a statistically significant difference. Both offer types are available."
   ]
  }
 ],
 "metadata": {
  "kernelspec": {
   "display_name": "Python 3",
   "language": "python",
   "name": "python3"
  },
  "language_info": {
   "codemirror_mode": {
    "name": "ipython",
    "version": 3
   },
   "file_extension": ".py",
   "mimetype": "text/x-python",
   "name": "python",
   "nbconvert_exporter": "python",
   "pygments_lexer": "ipython3",
   "version": "3.7.12"
  },
  "papermill": {
   "default_parameters": {},
   "duration": 12.386074,
   "end_time": "2022-11-23T14:22:09.310823",
   "environment_variables": {},
   "exception": null,
   "input_path": "__notebook__.ipynb",
   "output_path": "__notebook__.ipynb",
   "parameters": {},
   "start_time": "2022-11-23T14:21:56.924749",
   "version": "2.3.4"
  }
 },
 "nbformat": 4,
 "nbformat_minor": 5
}
